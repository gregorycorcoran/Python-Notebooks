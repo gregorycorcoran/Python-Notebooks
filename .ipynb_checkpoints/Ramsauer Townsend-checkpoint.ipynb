{
 "cells": [
  {
   "cell_type": "code",
   "execution_count": 1,
   "id": "9a878f4e",
   "metadata": {},
   "outputs": [],
   "source": [
    "import numpy as np\n",
    "import matplotlib.pyplot as plt\n",
    "from scipy.optimize import curve_fit\n",
    "plt.rcParams.update({'font.size': 22})\n",
    "plt.rcParams[\"figure.figsize\"] = (15,10)"
   ]
  },
  {
   "cell_type": "code",
   "execution_count": 2,
   "id": "469442ad",
   "metadata": {},
   "outputs": [
    {
     "ename": "OSError",
     "evalue": "C:\\Users\\gjc10\\Desktop\\Ram v1.csv not found.",
     "output_type": "error",
     "traceback": [
      "\u001b[1;31m---------------------------------------------------------------------------\u001b[0m",
      "\u001b[1;31mOSError\u001b[0m                                   Traceback (most recent call last)",
      "\u001b[1;32m<ipython-input-2-20fd9b1a0b9b>\u001b[0m in \u001b[0;36m<module>\u001b[1;34m\u001b[0m\n\u001b[0;32m      1\u001b[0m \u001b[1;31m#Notation: Va: v accelarator, Vp: v plate, etc, Iis/Iip etc: the measurements under LN2\u001b[0m\u001b[1;33m\u001b[0m\u001b[1;33m\u001b[0m\u001b[1;33m\u001b[0m\u001b[0m\n\u001b[1;32m----> 2\u001b[1;33m Va, Vp, Vs, Vip, Vis =np.loadtxt(\"C:\\\\Users\\\\gjc10\\\\Desktop\\\\Ram v1.csv\",delimiter=',',\\\n\u001b[0m\u001b[0;32m      3\u001b[0m                                  unpack=True,skiprows=2,usecols=(0,1,2,3,4))\n\u001b[0;32m      4\u001b[0m \u001b[0mIs\u001b[0m\u001b[1;33m=\u001b[0m\u001b[0mVs\u001b[0m\u001b[1;33m/\u001b[0m\u001b[1;33m(\u001b[0m\u001b[1;36m1e+5\u001b[0m\u001b[1;33m)\u001b[0m\u001b[1;33m\u001b[0m\u001b[1;33m\u001b[0m\u001b[0m\n\u001b[0;32m      5\u001b[0m \u001b[0mIp\u001b[0m\u001b[1;33m=\u001b[0m\u001b[0mVp\u001b[0m\u001b[1;33m/\u001b[0m\u001b[1;33m(\u001b[0m\u001b[1;36m1e+7\u001b[0m\u001b[1;33m)\u001b[0m\u001b[1;33m\u001b[0m\u001b[1;33m\u001b[0m\u001b[0m\n",
      "\u001b[1;32m~\\anaconda3\\lib\\site-packages\\numpy\\lib\\npyio.py\u001b[0m in \u001b[0;36mloadtxt\u001b[1;34m(fname, dtype, comments, delimiter, converters, skiprows, usecols, unpack, ndmin, encoding, max_rows, like)\u001b[0m\n\u001b[0;32m   1063\u001b[0m             \u001b[0mfname\u001b[0m \u001b[1;33m=\u001b[0m \u001b[0mos_fspath\u001b[0m\u001b[1;33m(\u001b[0m\u001b[0mfname\u001b[0m\u001b[1;33m)\u001b[0m\u001b[1;33m\u001b[0m\u001b[1;33m\u001b[0m\u001b[0m\n\u001b[0;32m   1064\u001b[0m         \u001b[1;32mif\u001b[0m \u001b[0m_is_string_like\u001b[0m\u001b[1;33m(\u001b[0m\u001b[0mfname\u001b[0m\u001b[1;33m)\u001b[0m\u001b[1;33m:\u001b[0m\u001b[1;33m\u001b[0m\u001b[1;33m\u001b[0m\u001b[0m\n\u001b[1;32m-> 1065\u001b[1;33m             \u001b[0mfh\u001b[0m \u001b[1;33m=\u001b[0m \u001b[0mnp\u001b[0m\u001b[1;33m.\u001b[0m\u001b[0mlib\u001b[0m\u001b[1;33m.\u001b[0m\u001b[0m_datasource\u001b[0m\u001b[1;33m.\u001b[0m\u001b[0mopen\u001b[0m\u001b[1;33m(\u001b[0m\u001b[0mfname\u001b[0m\u001b[1;33m,\u001b[0m \u001b[1;34m'rt'\u001b[0m\u001b[1;33m,\u001b[0m \u001b[0mencoding\u001b[0m\u001b[1;33m=\u001b[0m\u001b[0mencoding\u001b[0m\u001b[1;33m)\u001b[0m\u001b[1;33m\u001b[0m\u001b[1;33m\u001b[0m\u001b[0m\n\u001b[0m\u001b[0;32m   1066\u001b[0m             \u001b[0mfencoding\u001b[0m \u001b[1;33m=\u001b[0m \u001b[0mgetattr\u001b[0m\u001b[1;33m(\u001b[0m\u001b[0mfh\u001b[0m\u001b[1;33m,\u001b[0m \u001b[1;34m'encoding'\u001b[0m\u001b[1;33m,\u001b[0m \u001b[1;34m'latin1'\u001b[0m\u001b[1;33m)\u001b[0m\u001b[1;33m\u001b[0m\u001b[1;33m\u001b[0m\u001b[0m\n\u001b[0;32m   1067\u001b[0m             \u001b[0mfh\u001b[0m \u001b[1;33m=\u001b[0m \u001b[0miter\u001b[0m\u001b[1;33m(\u001b[0m\u001b[0mfh\u001b[0m\u001b[1;33m)\u001b[0m\u001b[1;33m\u001b[0m\u001b[1;33m\u001b[0m\u001b[0m\n",
      "\u001b[1;32m~\\anaconda3\\lib\\site-packages\\numpy\\lib\\_datasource.py\u001b[0m in \u001b[0;36mopen\u001b[1;34m(path, mode, destpath, encoding, newline)\u001b[0m\n\u001b[0;32m    192\u001b[0m \u001b[1;33m\u001b[0m\u001b[0m\n\u001b[0;32m    193\u001b[0m     \u001b[0mds\u001b[0m \u001b[1;33m=\u001b[0m \u001b[0mDataSource\u001b[0m\u001b[1;33m(\u001b[0m\u001b[0mdestpath\u001b[0m\u001b[1;33m)\u001b[0m\u001b[1;33m\u001b[0m\u001b[1;33m\u001b[0m\u001b[0m\n\u001b[1;32m--> 194\u001b[1;33m     \u001b[1;32mreturn\u001b[0m \u001b[0mds\u001b[0m\u001b[1;33m.\u001b[0m\u001b[0mopen\u001b[0m\u001b[1;33m(\u001b[0m\u001b[0mpath\u001b[0m\u001b[1;33m,\u001b[0m \u001b[0mmode\u001b[0m\u001b[1;33m,\u001b[0m \u001b[0mencoding\u001b[0m\u001b[1;33m=\u001b[0m\u001b[0mencoding\u001b[0m\u001b[1;33m,\u001b[0m \u001b[0mnewline\u001b[0m\u001b[1;33m=\u001b[0m\u001b[0mnewline\u001b[0m\u001b[1;33m)\u001b[0m\u001b[1;33m\u001b[0m\u001b[1;33m\u001b[0m\u001b[0m\n\u001b[0m\u001b[0;32m    195\u001b[0m \u001b[1;33m\u001b[0m\u001b[0m\n\u001b[0;32m    196\u001b[0m \u001b[1;33m\u001b[0m\u001b[0m\n",
      "\u001b[1;32m~\\anaconda3\\lib\\site-packages\\numpy\\lib\\_datasource.py\u001b[0m in \u001b[0;36mopen\u001b[1;34m(self, path, mode, encoding, newline)\u001b[0m\n\u001b[0;32m    529\u001b[0m                                       encoding=encoding, newline=newline)\n\u001b[0;32m    530\u001b[0m         \u001b[1;32melse\u001b[0m\u001b[1;33m:\u001b[0m\u001b[1;33m\u001b[0m\u001b[1;33m\u001b[0m\u001b[0m\n\u001b[1;32m--> 531\u001b[1;33m             \u001b[1;32mraise\u001b[0m \u001b[0mIOError\u001b[0m\u001b[1;33m(\u001b[0m\u001b[1;34m\"%s not found.\"\u001b[0m \u001b[1;33m%\u001b[0m \u001b[0mpath\u001b[0m\u001b[1;33m)\u001b[0m\u001b[1;33m\u001b[0m\u001b[1;33m\u001b[0m\u001b[0m\n\u001b[0m\u001b[0;32m    532\u001b[0m \u001b[1;33m\u001b[0m\u001b[0m\n\u001b[0;32m    533\u001b[0m \u001b[1;33m\u001b[0m\u001b[0m\n",
      "\u001b[1;31mOSError\u001b[0m: C:\\Users\\gjc10\\Desktop\\Ram v1.csv not found."
     ]
    }
   ],
   "source": [
    "#Notation: Va: v accelarator, Vp: v plate, etc, Iis/Iip etc: the measurements under LN2\n",
    "Va, Vp, Vs, Vip, Vis =np.loadtxt(\"C:\\\\Users\\\\gjc10\\\\Desktop\\\\Ram v1.csv\",delimiter=',',\\\n",
    "                                 unpack=True,skiprows=2,usecols=(0,1,2,3,4))\n",
    "Is=Vs/(1e+5)\n",
    "Ip=Vp/(1e+7)\n",
    "Iis=Vis/(1e+5)\n",
    "Iip=Vip/(1e+7)\n",
    "#Original plot\n",
    "plt.scatter(np.sqrt((Va/1000)-(Vs/1000)),1-((Ip*Iis)/(Is*Iip)),color='r')\n",
    "#All measurements were recorded in mV hence the factor of 1e-3\n",
    "#Two sets of errorbars as two different uncertainties(mm settings changed)\n",
    "plt.errorbar(np.sqrt((Va[0:77]/1000)-(Vs[0:77]/1000)),1-((Ip[0:77]*Iis[0:77])/(Is[0:77]*Iip[0:77])),\\\n",
    "             yerr=((Ip[0:77]*Iis[0:77])/(Is[0:77]*Iip[0:77]))*(5e-7)*np.sqrt((100*Ip[0:77])**(-2)+Iis[0:77]**(-2)+Is[0:77]**2+(Iip[0:77]/100)**2),\\\n",
    "             fmt='o',color='red')\n",
    "plt.errorbar(np.sqrt((Va[78:133]/1000)-(Vs[78:133]/1000)),1-((Ip[78:133]*Iis[78:133])/(Is[78:133]*Iip[78:133])),\\\n",
    "             yerr=((Ip[78:133]*Iis[78:133])/(Is[78:133]*Iip[78:133]))*(5e-6)*np.sqrt((100*Ip[78:133])**(-2)+Iis[78:133]**(-2)+Is[78:133]**2+(Iip[78:133]/100)**2),\\\n",
    "             fmt='o',color='red')\n",
    "plt.ylim(0,1)\n",
    "plt.grid(True)\n",
    "plt.xlabel('$(V-V_s)^{1/2}$')\n",
    "plt.ylabel('$P_s$')\n",
    "plt.vlines(x=[0.75,0.85,3.38],ymin=0,ymax=1,linestyles='dashed')\n",
    "plt.legend(['Measured Probabilities'])\n"
   ]
  },
  {
   "cell_type": "code",
   "execution_count": null,
   "id": "ead80e92",
   "metadata": {},
   "outputs": [],
   "source": [
    "#Plot of Ip in both conditions\n",
    "plt.scatter(Va/1000,10*Ip)\n",
    "plt.xlim(0,5)\n",
    "plt.ylim(0,2e-5)\n",
    "plt.scatter(Va/1000,Iip)\n",
    "plt.xlabel('Accelerating Voltage (V)')\n",
    "plt.ylabel('Current (A)')\n",
    "plt.legend(['$10(I_p)$','$I_p^*$'])\n",
    "plt.grid(True)"
   ]
  },
  {
   "cell_type": "code",
   "execution_count": null,
   "id": "fcbd431c",
   "metadata": {},
   "outputs": [],
   "source": [
    "#Used for linear fits\n",
    "def linfunc(x,m,c):\n",
    "    return m*x+c\n"
   ]
  },
  {
   "cell_type": "code",
   "execution_count": null,
   "id": "898dd169",
   "metadata": {},
   "outputs": [],
   "source": [
    "#e suffix as the extension measurements\n",
    "Vae,Vse = np.loadtxt(\"C:\\\\Users\\\\gjc10\\\\Desktop\\\\Ramsauer Ext.csv\",delimiter=',',unpack=True,skiprows=1)\n",
    "Ise=Vse/(1e+7)\n",
    "space1=np.linspace(-0.4,0,100)\n",
    "print(Ise)\n",
    "\n"
   ]
  },
  {
   "cell_type": "code",
   "execution_count": null,
   "id": "8f65e136",
   "metadata": {},
   "outputs": [],
   "source": [
    "#This likely would read better with multiple variables rather than directly into the functions\n",
    "#Plot used to determine contact potential and vbar\n",
    "plt.scatter(Vae/1000-Vse/1000,np.log(Ise))\n",
    "plt.errorbar(Vae[0:7]/1000-Vse[0:7]/1000,np.log(Ise[0:7]),yerr=(0.05)/Vse[0:7],fmt='o')\n",
    "plt.grid(True,which='both')\n",
    "#The two linear fits\n",
    "popt1, pcov1 =curve_fit(linfunc,Vae[0:3]/1000-Vse[0:3]/1000,np.log(Ise[0:3]),\\\n",
    "                        sigma=(0.05)/Vse[0:3],absolute_sigma=True)\n",
    "popt2, pcov2 =curve_fit(linfunc,Vae[4:7]/1000-Vse[4:7]/1000,np.log(Ise[4:7]),\\\n",
    "                        sigma=(0.05)/Vse[4:7],absolute_sigma=True)\n",
    "space=np.linspace(-0.35,0,100)\n",
    "plt.plot(space,popt1[0]*space+popt1[1])\n",
    "plt.plot(space,popt2[0]*space+popt2[1])\n",
    "plt.ylim(-18,-14)\n",
    "print(popt1[0],popt2[0],popt1[1],popt2[1])\n",
    "print(pcov2)\n",
    "plt.vlines(x=[-0.135,-0.13,-0.14],ymin=-18,ymax=-14,linestyles='dashed')\n",
    "\n",
    "\n",
    "#Point around 0.135V\n",
    "#Vbar around 0.155 pm 0.025"
   ]
  },
  {
   "cell_type": "code",
   "execution_count": null,
   "id": "3b90d60c",
   "metadata": {},
   "outputs": [],
   "source": [
    "#Corrected plot\n",
    "plt.scatter(np.sqrt((Va/1000+0.135+0.155)-(Vs/1000)),1-((Ip*Iis)/(Is*Iip)))\n",
    "plt.ylim(0,1)\n",
    "plt.grid(True)\n",
    "plt.xlabel('$(V-V_s+V_c+\\overline{V} )^{1/2}$')\n",
    "plt.ylabel('$P_s$')\n",
    "plt.vlines(x=[0.95,1,3.4223,3.45],ymin=0,ymax=1,linestyles='dashed')\n",
    "plt.errorbar(np.sqrt((Va[0:77]/1000+0.135+0.155)-(Vs[0:77]/1000)),\\\n",
    "             1-((Ip[0:77]*Iis[0:77])/(Is[0:77]*Iip[0:77])),\\\n",
    "             xerr=0.0255,yerr=((Ip[0:77]*Iis[0:77])/(Is[0:77]*Iip[0:77]))*(5e-7)*np.sqrt((100*Ip[0:77])**(-2)+Iis[0:77]**(-2)+Is[0:77]**2+(Iip[0:77]/100)**2),\\\n",
    "             fmt='o',color='red')\n",
    "plt.errorbar(np.sqrt((Va[78:133]/1000+0.135+0.155)-(Vs[78:133]/1000)),1-((Ip[78:133]*Iis[78:133])/(Is[78:133]*Iip[78:133])),\\\n",
    "             xerr=0.0255,\\\n",
    "             yerr=((Ip[78:133]*Iis[78:133])/(Is[78:133]*Iip[78:133]))*(5e-6)*np.sqrt((100*Ip[78:133])**(-2)+Iis[78:133]**(-2)+Is[78:133]**2+(Iip[78:133]/100)**2),\\\n",
    "             fmt='o',color='red')\n",
    "plt.legend(['Corrected Results'])"
   ]
  },
  {
   "cell_type": "code",
   "execution_count": null,
   "id": "feb83c3a",
   "metadata": {},
   "outputs": [],
   "source": [
    "plt.scatter(np.sqrt((Va/1000+0.16+0.135)-(Vs/1000)),(-0.05/(0.7e-2))*np.log((Ip*Iis)/(Is*Iip)))\n"
   ]
  },
  {
   "cell_type": "code",
   "execution_count": null,
   "id": "3c23ca0c",
   "metadata": {},
   "outputs": [],
   "source": []
  }
 ],
 "metadata": {
  "kernelspec": {
   "display_name": "Python 3",
   "language": "python",
   "name": "python3"
  },
  "language_info": {
   "codemirror_mode": {
    "name": "ipython",
    "version": 3
   },
   "file_extension": ".py",
   "mimetype": "text/x-python",
   "name": "python",
   "nbconvert_exporter": "python",
   "pygments_lexer": "ipython3",
   "version": "3.8.8"
  }
 },
 "nbformat": 4,
 "nbformat_minor": 5
}
