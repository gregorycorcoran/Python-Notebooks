{
 "cells": [
  {
   "cell_type": "code",
   "execution_count": 1,
   "metadata": {},
   "outputs": [
    {
     "name": "stderr",
     "output_type": "stream",
     "text": [
      "c:\\Users\\gjc10\\anaconda3\\lib\\site-packages\\pyqtgraph\\colors\\palette.py:1: RuntimeWarning: PyQtGraph supports Qt version >= 5.15, but 5.9.7 detected.\n",
      "  from ..Qt import QtGui\n"
     ]
    },
    {
     "name": "stdout",
     "output_type": "stream",
     "text": [
      "WARNING:tensorflow:From c:\\Users\\gjc10\\anaconda3\\lib\\site-packages\\tensorflow\\python\\compat\\v2_compat.py:107: disable_resource_variables (from tensorflow.python.ops.variable_scope) is deprecated and will be removed in a future version.\n",
      "Instructions for updating:\n",
      "non-resource variables are not supported in the long term\n"
     ]
    }
   ],
   "source": [
    "import astrodash\n",
    "from glob import glob\n",
    "from astropy.io import ascii\n",
    "from astropy.table import Table\n"
   ]
  },
  {
   "cell_type": "code",
   "execution_count": 2,
   "metadata": {},
   "outputs": [],
   "source": [
    "spectra=glob(r\"C:/Users/gjc10/Desktop/tns_api_search/Downloads2/*\")\n",
    "RS=[]\n",
    "for spec in spectra:\n",
    "    name=spec.split('\\\\')[1]\n",
    "    rs=float(name.split('_')[2][0:-6])\n",
    "    RS.append(rs)"
   ]
  },
  {
   "cell_type": "code",
   "execution_count": 4,
   "metadata": {},
   "outputs": [
    {
     "name": "stdout",
     "output_type": "stream",
     "text": [
      "['C:', 'Users', 'gjc10', 'Desktop', 'tns_api_search', 'Downloads2\\\\2018bvw_RS_0.054.ascii']\n",
      "2018bvw_RS_0.054.ascii\n",
      "C:/Users/gjc10/Desktop/tns_api_search/Revised_files2/2018bvw_RS_0.054.ascii\n"
     ]
    }
   ],
   "source": [
    "link=spectra[0].split('/')\n",
    "print(link)\n",
    "print(link[5].split('\\\\')[1])\n",
    "print(link[0]+'/'+link[1]+'/'+link[2]+'/'+link[3]+'/'+link[4]+'/'+'Revised_files2/'+link[5].split('\\\\')[1])"
   ]
  },
  {
   "cell_type": "code",
   "execution_count": 55,
   "metadata": {},
   "outputs": [
    {
     "name": "stdout",
     "output_type": "stream",
     "text": [
      "C:/Users/gjc10/Desktop/tns_api_search/downloaded_files\\2021xv_RS_0.05.ascii\n",
      "['SIMPLE', '=', 'True']\n",
      "      SIMPLE               =                 True       \n",
      "------------------ ------------------ ------------------\n",
      "3501.1760092023105  8.086923253183965 2.8237489728349314\n",
      "3505.3349518526793  8.247879417618812  3.777208340357951\n",
      " 3508.120718428078 3.4960368356087437 3.6799778848208695\n",
      "3510.9080941724183  8.866800665702408   3.72242636311397\n",
      " 3515.109513730018   6.78077447875734 2.5093914757614613\n",
      "3519.2813262600866 4.3421165276184075 3.3825459531157076\n",
      " 3522.075994710145 5.4539808621024415 3.3250798384846885\n",
      "3524.8724492225924 11.916837835095105  3.496331626317815\n",
      "3529.0879537673204  7.366000549958596 2.3139352827959785\n",
      " 3533.272527138099  9.160582759308111  3.255449855099914\n",
      "               ...                ...                ...\n",
      " 9644.969514741844  8.476299924723403 0.9086470323251058\n",
      " 9648.891531021713   8.07609307164234 0.8717365708812441\n",
      " 9652.814303123843  9.679026695126671 0.8976312295773368\n",
      " 9656.737816493624  8.761037075811073 0.8768913799165642\n",
      " 9660.662057752095  8.374626645305216 0.8742820413960066\n",
      " 9664.587089851777  10.97615255742028 0.9397890401780989\n",
      " 9668.512841379554  8.341957290080725 0.8983789414294092\n",
      " 9672.439353723987  9.035545670071325  0.917332778634329\n",
      " 9676.366615593099  8.979841072998994  0.957261400259805\n",
      " 9680.294630899647  8.368684612286572 1.0023217876401918\n",
      " 9684.223406503752  9.926751341393395  1.043153522367844\n",
      "Length = 1705 rows\n"
     ]
    }
   ],
   "source": [
    "print(spectra[27])\n",
    "temp=ascii.read(spectra[27])\n",
    "print(temp.keys())\n",
    "print(temp)"
   ]
  },
  {
   "cell_type": "code",
   "execution_count": 6,
   "metadata": {},
   "outputs": [
    {
     "name": "stdout",
     "output_type": "stream",
     "text": [
      "C:/Users/gjc10/Desktop/tns_api_search/Downloads2\\2018bvw_RS_0.054.ascii\n",
      "C:/Users/gjc10/Desktop/tns_api_search/Downloads2\\2018cow_RS_0.0.ascii\n",
      "C:/Users/gjc10/Desktop/tns_api_search/Downloads2\\2018ell_RS_0.0638.ascii\n",
      "C:/Users/gjc10/Desktop/tns_api_search/Downloads2\\2018etk_RS_0.04415.ascii\n",
      "C:/Users/gjc10/Desktop/tns_api_search/Downloads2\\2018fip_RS_0.117.ascii\n",
      "C:/Users/gjc10/Desktop/tns_api_search/Downloads2\\2018gep_RS_0.032.ascii\n",
      "C:/Users/gjc10/Desktop/tns_api_search/Downloads2\\2018giu_RS_0.026.ascii\n",
      "C:/Users/gjc10/Desktop/tns_api_search/Downloads2\\2018gju_RS_0.05.ascii\n",
      "C:/Users/gjc10/Desktop/tns_api_search/Downloads2\\2018hom_RS_0.0362.ascii\n",
      "C:/Users/gjc10/Desktop/tns_api_search/Downloads2\\2018if_RS_0.031.ascii\n",
      "C:/Users/gjc10/Desktop/tns_api_search/Downloads2\\2018jex_RS_0.094.ascii\n",
      "C:/Users/gjc10/Desktop/tns_api_search/Downloads2\\2018kqr_RS_0.045.ascii\n",
      "C:/Users/gjc10/Desktop/tns_api_search/Downloads2\\2018kq_RS_0.027.ascii\n",
      "C:/Users/gjc10/Desktop/tns_api_search/Downloads2\\2018yg_RS_0.018469.ascii\n",
      "C:/Users/gjc10/Desktop/tns_api_search/Downloads2\\2019azq_RS_0.034.ascii\n",
      "C:/Users/gjc10/Desktop/tns_api_search/Downloads2\\2019but_RS_0.15.ascii\n",
      "C:/Users/gjc10/Desktop/tns_api_search/Downloads2\\2019cqr_RS_0.1.ascii\n",
      "C:/Users/gjc10/Desktop/tns_api_search/Downloads2\\2019eto_RS_0.03.ascii\n",
      "C:/Users/gjc10/Desktop/tns_api_search/Downloads2\\2019fie_RS_0.076.ascii\n",
      "C:/Users/gjc10/Desktop/tns_api_search/Downloads2\\2019gcl_RS_0.027.ascii\n",
      "C:/Users/gjc10/Desktop/tns_api_search/Downloads2\\2019gwc_RS_0.038003.ascii\n",
      "C:/Users/gjc10/Desktop/tns_api_search/Downloads2\\2019hsx_RS_0.020652.ascii\n",
      "C:/Users/gjc10/Desktop/tns_api_search/Downloads2\\2019lci_RS_0.0292.ascii\n",
      "C:/Users/gjc10/Desktop/tns_api_search/Downloads2\\2019loe_RS_0.115.ascii\n",
      "C:/Users/gjc10/Desktop/tns_api_search/Downloads2\\2019moc_RS_0.0558.ascii\n",
      "C:/Users/gjc10/Desktop/tns_api_search/Downloads2\\2019mof_RS_0.027.ascii\n",
      "C:/Users/gjc10/Desktop/tns_api_search/Downloads2\\2019nep_RS_0.0383.ascii\n",
      "C:/Users/gjc10/Desktop/tns_api_search/Downloads2\\2019odp_RS_0.014353.ascii\n",
      "C:/Users/gjc10/Desktop/tns_api_search/Downloads2\\2019oqp_RS_0.030821.ascii\n",
      "C:/Users/gjc10/Desktop/tns_api_search/Downloads2\\2019pgo_RS_0.05.ascii\n",
      "C:/Users/gjc10/Desktop/tns_api_search/Downloads2\\2019qfi_RS_0.0285.ascii\n",
      "C:/Users/gjc10/Desktop/tns_api_search/Downloads2\\2019qg_RS_0.08.ascii\n",
      "C:/Users/gjc10/Desktop/tns_api_search/Downloads2\\2019tvk_RS_0.0796.ascii\n",
      "C:/Users/gjc10/Desktop/tns_api_search/Downloads2\\2019xcc_RS_0.029.ascii\n",
      "C:/Users/gjc10/Desktop/tns_api_search/Downloads2\\2020ayz_RS_0.025.ascii\n",
      "C:/Users/gjc10/Desktop/tns_api_search/Downloads2\\2020bvc_RS_0.025235.ascii\n",
      "C:/Users/gjc10/Desktop/tns_api_search/Downloads2\\2020dgd_RS_0.03.ascii\n",
      "C:/Users/gjc10/Desktop/tns_api_search/Downloads2\\2020fhj_RS_0.085.ascii\n",
      "C:/Users/gjc10/Desktop/tns_api_search/Downloads2\\2020hes_RS_0.07.ascii\n",
      "C:/Users/gjc10/Desktop/tns_api_search/Downloads2\\2020hyj_RS_0.055.ascii\n",
      "C:/Users/gjc10/Desktop/tns_api_search/Downloads2\\2020jqm_RS_0.03696.ascii\n",
      "C:/Users/gjc10/Desktop/tns_api_search/Downloads2\\2020kba_RS_0.066.ascii\n",
      "C:/Users/gjc10/Desktop/tns_api_search/Downloads2\\2020lao_RS_0.031162.ascii\n",
      "C:/Users/gjc10/Desktop/tns_api_search/Downloads2\\2020rfr_RS_0.0725.ascii\n",
      "C:/Users/gjc10/Desktop/tns_api_search/Downloads2\\2020zg_RS_0.0557.ascii\n"
     ]
    }
   ],
   "source": [
    "for spec in spectra:\n",
    "    print(spec)\n",
    "    data=ascii.read(spec)\n",
    "    keys=data.keys()\n",
    "    col1=data[keys[0]]\n",
    "    col2=data[keys[1]]\n",
    "    revData=Table()\n",
    "    revData['col1']=col1\n",
    "    revData['col2']=col2\n",
    "    link=spec.split('/')\n",
    "    newlink=link[0]+'/'+link[1]+'/'+link[2]+'/'+link[3]+'/'+link[4]+'/'+'Revised_files2/'+link[5].split('\\\\')[1]\n",
    "    revData.write(newlink,format='ascii.fixed_width_no_header',overwrite=True,delimiter=' ')\n"
   ]
  },
  {
   "cell_type": "code",
   "execution_count": 7,
   "metadata": {},
   "outputs": [
    {
     "name": "stdout",
     "output_type": "stream",
     "text": [
      "['C:/Users/gjc10/Desktop/tns_api_search/Revised_files2\\\\2020dgd_RS_0.03.ascii']\n",
      "[0.054, 0.0, 0.0638, 0.04415, 0.117, 0.032, 0.026, 0.05, 0.0362, 0.031, 0.094, 0.045, 0.027, 0.018469, 0.034, 0.15, 0.1, 0.03, 0.076, 0.027, 0.038003, 0.020652, 0.0292, 0.115, 0.0558, 0.027, 0.0383, 0.014353, 0.030821, 0.05, 0.0285, 0.08, 0.0796, 0.029, 0.025, 0.025235, 0.03, 0.085, 0.07, 0.055, 0.03696, 0.066, 0.031162, 0.0725, 0.0557]\n"
     ]
    }
   ],
   "source": [
    "spectra=glob(r\"C:/Users/gjc10/Desktop/tns_api_search/Revised_files2/*\")\n",
    "RS=[]\n",
    "for spec in spectra:\n",
    "    name=spec.split('\\\\')[1]\n",
    "    rs=float(name.split('_')[2][0:-6])\n",
    "    RS.append(rs)\n",
    "print(spectra[36:37])\n",
    "print(RS)"
   ]
  },
  {
   "cell_type": "code",
   "execution_count": 35,
   "metadata": {},
   "outputs": [
    {
     "name": "stdout",
     "output_type": "stream",
     "text": [
      "C:/Users/gjc10/Desktop/tns_api_search/Revised_files\\2022wda_RS_0.0445.ascii\n",
      "<class 'numpy.float64'>\n"
     ]
    }
   ],
   "source": [
    "print(spectra[38])\n",
    "tempdata=ascii.read(spectra[38])\n",
    "print(type(tempdata['col2'][0]))"
   ]
  },
  {
   "cell_type": "code",
   "execution_count": 8,
   "metadata": {},
   "outputs": [
    {
     "name": "stdout",
     "output_type": "stream",
     "text": [
      "WARNING:tensorflow:From c:\\Users\\gjc10\\anaconda3\\lib\\site-packages\\tensorflow\\python\\util\\dispatch.py:1176: calling dropout (from tensorflow.python.ops.nn_ops) with keep_prob is deprecated and will be removed in a future version.\n",
      "Instructions for updating:\n",
      "Please use `rate` instead of `keep_prob`. Rate should be set to `rate = 1 - keep_prob`.\n",
      "INFO:tensorflow:Restoring parameters from c:\\Users\\gjc10\\anaconda3\\lib\\site-packages\\astrodash\\models_v06\\models/zeroZ/tensorflow_model.ckpt\n",
      "Finished classifying 45 spectra!\n"
     ]
    },
    {
     "name": "stderr",
     "output_type": "stream",
     "text": [
      "c:\\Users\\gjc10\\anaconda3\\lib\\site-packages\\astrodash\\read_binned_templates.py:15: VisibleDeprecationWarning: Creating an ndarray from ragged nested sequences (which is a list-or-tuple of lists-or-tuples-or ndarrays with different lengths or shapes) is deprecated. If you meant to do this, you must specify 'dtype=object' when creating the ndarray.\n",
      "  hostInfos = np.array([[np.zeros(nw), np.zeros(nw), 1, nw - 1]])\n"
     ]
    }
   ],
   "source": [
    "classification = astrodash.Classify(spectra, RS, classifyHost=False,knownZ=True, smooth=6, rlapScores=False)\n",
    "bestFits, redshifts, bestTypes, rejectionLabels, reliableFlags, redshiftErrs =classification.list_best_matches(n=5, saveFilename='C:/Users/gjc10/Desktop/tns_api_search/DASH_matches2.txt')"
   ]
  }
 ],
 "metadata": {
  "kernelspec": {
   "display_name": "Python 3 (ipykernel)",
   "language": "python",
   "name": "python3"
  },
  "language_info": {
   "codemirror_mode": {
    "name": "ipython",
    "version": 3
   },
   "file_extension": ".py",
   "mimetype": "text/x-python",
   "name": "python",
   "nbconvert_exporter": "python",
   "pygments_lexer": "ipython3",
   "version": "3.8.8"
  }
 },
 "nbformat": 4,
 "nbformat_minor": 2
}
