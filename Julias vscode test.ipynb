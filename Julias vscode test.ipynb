{
 "cells": [
  {
   "cell_type": "code",
   "execution_count": 18,
   "metadata": {},
   "outputs": [
    {
     "name": "stdout",
     "output_type": "stream",
     "text": [
      "Hello World\n"
     ]
    }
   ],
   "source": [
    "\n",
    "println(\"Hello World\")"
   ]
  },
  {
   "cell_type": "code",
   "execution_count": 13,
   "metadata": {},
   "outputs": [
    {
     "data": {
      "text/plain": [
       "secant (generic function with 3 methods)"
      ]
     },
     "execution_count": 13,
     "metadata": {},
     "output_type": "execute_result"
    }
   ],
   "source": [
    "function secant(func,x0,x1,tol=1e-6,max_steps=1000)\n",
    "    f0=func(x0)\n",
    "    f1=func(x1)\n",
    "    epsilon=10\n",
    "    counter=0\n",
    "    steps=Float64[]\n",
    "    while epsilon>tol && counter<max_steps\n",
    "        x2=x1-f1*((x1-x0)/(f1-f0))\n",
    "        epsilon=abs(x2-x1)\n",
    "        #println(epsilon)\n",
    "        push!(steps,x2)\n",
    "        x0=x1\n",
    "        x1=x2\n",
    "        f0=f1\n",
    "        f1=func(x1)\n",
    "        counter+=1\n",
    "    end\n",
    "    return steps\n",
    "end"
   ]
  },
  {
   "cell_type": "code",
   "execution_count": 19,
   "metadata": {},
   "outputs": [
    {
     "name": "stdout",
     "output_type": "stream",
     "text": [
      "[1.4715177646857693, 1.1580448910535508, 1.1874626187983823, 1.193829983566135, 1.1936739062270092, 1.193674574473337]\n"
     ]
    }
   ],
   "source": [
    "function func(x)\n",
    "    return x^3+exp(x)-5\n",
    "end\n",
    "println(secant(func,0,1))"
   ]
  },
  {
   "cell_type": "code",
   "execution_count": 22,
   "metadata": {},
   "outputs": [
    {
     "name": "stdout",
     "output_type": "stream",
     "text": [
      "Julia Version 1.8.2\n",
      "Commit 36034abf26 (2022-09-29 15:21 UTC)\n",
      "Platform Info:\n",
      "  OS: Windows (x86_64-w64-mingw32)\n",
      "  CPU: 6 × AMD Ryzen 5 4500U with Radeon Graphics         \n",
      "  WORD_SIZE: 64\n",
      "  LIBM: libopenlibm\n",
      "  LLVM: libLLVM-13.0.1 (ORCJIT, znver2)\n",
      "  Threads: 1 on 6 virtual cores\n"
     ]
    }
   ],
   "source": [
    "versioninfo()"
   ]
  }
 ],
 "metadata": {
  "kernelspec": {
   "display_name": "Julia 1.8.2",
   "language": "julia",
   "name": "julia-1.8"
  },
  "language_info": {
   "file_extension": ".jl",
   "mimetype": "application/julia",
   "name": "julia",
   "version": "1.8.2"
  },
  "orig_nbformat": 4
 },
 "nbformat": 4,
 "nbformat_minor": 2
}
