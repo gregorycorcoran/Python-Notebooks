{
 "cells": [
  {
   "cell_type": "code",
   "execution_count": 1,
   "metadata": {},
   "outputs": [],
   "source": [
    "import pandas as pd\n",
    "import numpy as np"
   ]
  },
  {
   "cell_type": "code",
   "execution_count": 2,
   "metadata": {},
   "outputs": [
    {
     "data": {
      "text/plain": [
       "Int64Index([   0,    1,   10,   15,   17,   25,   43,   52,   54,   58,\n",
       "            ...\n",
       "            2042, 2050, 2062, 2064, 2071, 2074, 2075, 2078, 2079, 2080],\n",
       "           dtype='int64', length=530)"
      ]
     },
     "execution_count": 2,
     "metadata": {},
     "output_type": "execute_result"
    }
   ],
   "source": [
    "df=pd.read_csv(\"C:/Users/gjc10/Downloads/StationDetails.csv\")\n",
    "df=df.drop(df[df['close year']!='(null)'].index)\n",
    "df.index"
   ]
  },
  {
   "cell_type": "code",
   "execution_count": 3,
   "metadata": {},
   "outputs": [],
   "source": [
    "def Find_Closest(lat,long):\n",
    "    distances=[]\n",
    "\n",
    "    for i in df.index:\n",
    "        distance=111*np.sqrt((lat-df['latitude'][i])**2+(long-df['longitude'][i])**2)\n",
    "        distances.append((i,distance))\n",
    "        min_index=np.argmin([x[1] for x in distances])\n",
    "    \n",
    "    return df.name[distances[min_index][0]],distances[min_index][1]"
   ]
  },
  {
   "cell_type": "code",
   "execution_count": 4,
   "metadata": {},
   "outputs": [
    {
     "data": {
      "text/plain": [
       "('BALLYEDMONDUFF HOUSE', 3.7612405753826166)"
      ]
     },
     "execution_count": 4,
     "metadata": {},
     "output_type": "execute_result"
    }
   ],
   "source": [
    "Find_Closest(53.267115, -6.227602)"
   ]
  },
  {
   "cell_type": "code",
   "execution_count": 8,
   "metadata": {},
   "outputs": [
    {
     "name": "stdout",
     "output_type": "stream",
     "text": [
      "['53.267108555510575', '-6.227580544769159']\n"
     ]
    },
    {
     "data": {
      "text/plain": [
       "('BALLYEDMONDUFF HOUSE', 3.7603451891868844)"
      ]
     },
     "execution_count": 8,
     "metadata": {},
     "output_type": "execute_result"
    }
   ],
   "source": [
    "x=input('Enter lat,long')\n",
    "splitdata=x.split(', ')\n",
    "print(splitdata)\n",
    "Find_Closest(float(splitdata[0]),float(splitdata[1]))\n"
   ]
  }
 ],
 "metadata": {
  "kernelspec": {
   "display_name": "climatepy",
   "language": "python",
   "name": "python3"
  },
  "language_info": {
   "codemirror_mode": {
    "name": "ipython",
    "version": 3
   },
   "file_extension": ".py",
   "mimetype": "text/x-python",
   "name": "python",
   "nbconvert_exporter": "python",
   "pygments_lexer": "ipython3",
   "version": "3.9.17"
  },
  "orig_nbformat": 4
 },
 "nbformat": 4,
 "nbformat_minor": 2
}
