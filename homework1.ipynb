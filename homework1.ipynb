{
 "cells": [
  {
   "cell_type": "markdown",
   "metadata": {},
   "source": [
    "# Homework 1"
   ]
  },
  {
   "cell_type": "markdown",
   "metadata": {},
   "source": [
    "### Instructions:\n",
    "\n",
    "1.- Answer all the questions on this Python notebook while mantaining its structure.\n",
    "\n",
    "2.- All answers must be clearly shown.\n",
    "\n",
    "3.- An additional PDF document is available on Brightspace which includes the tables necessary to complete the assignment\n",
    "\n",
    "-----------"
   ]
  },
  {
   "cell_type": "markdown",
   "metadata": {},
   "source": [
    "### Use this cell to import all the modules you need to complete this assignment"
   ]
  },
  {
   "cell_type": "code",
   "execution_count": 2,
   "metadata": {},
   "outputs": [],
   "source": []
  },
  {
   "cell_type": "markdown",
   "metadata": {},
   "source": [
    "-----"
   ]
  },
  {
   "cell_type": "markdown",
   "metadata": {},
   "source": [
    "### A) Given the <u> apparent magnitudes </u> of the 5 main sequence stars shown in Table 1, calculate:"
   ]
  },
  {
   "cell_type": "markdown",
   "metadata": {},
   "source": [
    "#### i) the temperature of each star using the following equation:\n",
    "\n",
    "$$ T=4600K \\bigg (\\dfrac{1}{0.92(B-V)+1.7}+\\dfrac{1}{0.92(B-V)+0.62} \\bigg ) $$"
   ]
  },
  {
   "cell_type": "code",
   "execution_count": null,
   "metadata": {},
   "outputs": [],
   "source": []
  },
  {
   "cell_type": "markdown",
   "metadata": {},
   "source": [
    "#### ii) their absolute magnitude using the information provided in Table 2 \n",
    "\n",
    "(hint: as an approximation you can interpolate between two adjacent values)"
   ]
  },
  {
   "cell_type": "code",
   "execution_count": null,
   "metadata": {},
   "outputs": [],
   "source": []
  },
  {
   "cell_type": "markdown",
   "metadata": {},
   "source": [
    "#### iii) an estimate of their spectral type"
   ]
  },
  {
   "cell_type": "code",
   "execution_count": null,
   "metadata": {},
   "outputs": [],
   "source": []
  },
  {
   "cell_type": "markdown",
   "metadata": {},
   "source": [
    "#### iv) the luminosity of each star using the following equation \n",
    "$$L=L_{\\odot}10^{\\dfrac{M_{\\odot}-M_{\\rm star}}{2.5}}$$\n",
    "<strong>Note:</strong> M⊙ = 4.85. Give result in units of solar luminosity"
   ]
  },
  {
   "cell_type": "code",
   "execution_count": null,
   "metadata": {},
   "outputs": [],
   "source": []
  },
  {
   "cell_type": "markdown",
   "metadata": {},
   "source": [
    "#### v) their radius\n",
    "<strong>Note:</strong> Give result in units of solar radius"
   ]
  },
  {
   "cell_type": "code",
   "execution_count": null,
   "metadata": {},
   "outputs": [],
   "source": []
  },
  {
   "cell_type": "markdown",
   "metadata": {},
   "source": [
    "-------"
   ]
  },
  {
   "cell_type": "markdown",
   "metadata": {},
   "source": [
    "### B) Based on the absolute magnitude obtained in section A.ii, calculate their distance using the following equation\n",
    "$$m-M=5 \\times log_{10}(d)-5 \\textrm{ (where d is the distance in parsec)}$$\n",
    "### and compare it to the parallax distance provided in Table 1 for each star."
   ]
  },
  {
   "cell_type": "code",
   "execution_count": null,
   "metadata": {},
   "outputs": [],
   "source": []
  },
  {
   "cell_type": "markdown",
   "metadata": {},
   "source": [
    "-------"
   ]
  },
  {
   "cell_type": "markdown",
   "metadata": {},
   "source": [
    "### C) The main difference between the distance calculated in part B and that given in Table 2 was the absence of extinction correction on your calculations. \n",
    "\n",
    "### Consider that the extinction for the filter V can be calculated as \n",
    "$$A_{V} = 0.6 \\times \\big (\\dfrac{d}{1000} \\big ) \\textrm{ (where d is the distance in parsec)}$$ \n",
    "\n",
    "<strong>Note:</strong> This approximation is valid for sources near the galactic plane. \n",
    "### Use this value and the parallax distance from Table 1 to calculate: "
   ]
  },
  {
   "cell_type": "markdown",
   "metadata": {},
   "source": [
    "#### i) the \"real\" absolute magnitude"
   ]
  },
  {
   "cell_type": "code",
   "execution_count": null,
   "metadata": {},
   "outputs": [],
   "source": []
  },
  {
   "cell_type": "markdown",
   "metadata": {},
   "source": [
    "#### ii) their temperature"
   ]
  },
  {
   "cell_type": "code",
   "execution_count": null,
   "metadata": {},
   "outputs": [],
   "source": []
  },
  {
   "cell_type": "markdown",
   "metadata": {},
   "source": [
    "#### iii) their luminosity"
   ]
  },
  {
   "cell_type": "code",
   "execution_count": null,
   "metadata": {},
   "outputs": [],
   "source": []
  },
  {
   "cell_type": "markdown",
   "metadata": {},
   "source": [
    "#### iv) their spectral type"
   ]
  },
  {
   "cell_type": "code",
   "execution_count": null,
   "metadata": {},
   "outputs": [],
   "source": []
  },
  {
   "cell_type": "markdown",
   "metadata": {},
   "source": [
    "#### v) their radius"
   ]
  },
  {
   "cell_type": "code",
   "execution_count": null,
   "metadata": {},
   "outputs": [],
   "source": []
  },
  {
   "cell_type": "markdown",
   "metadata": {},
   "source": [
    "#### vi) How do these values compare to those obtained in section A?"
   ]
  },
  {
   "cell_type": "code",
   "execution_count": null,
   "metadata": {},
   "outputs": [],
   "source": []
  },
  {
   "cell_type": "markdown",
   "metadata": {},
   "source": [
    "-------"
   ]
  },
  {
   "cell_type": "markdown",
   "metadata": {},
   "source": [
    "### D) Calculate the extinction curve ($A_{\\lambda}$ vs λ, where λ is the centre wavelength of each filter) for each star\n",
    "\n",
    "<strong>Note:</strong> Centre wavelenght for the filters mentioned on Table 1: V=547.7nm, B=435.3nm, r=620.4nm and i=769.8nm. "
   ]
  },
  {
   "cell_type": "code",
   "execution_count": null,
   "metadata": {},
   "outputs": [],
   "source": []
  },
  {
   "cell_type": "markdown",
   "metadata": {},
   "source": [
    "#### ii) If the values for all the stars are normalised, are the curves similar to each other? Why?"
   ]
  },
  {
   "cell_type": "code",
   "execution_count": null,
   "metadata": {},
   "outputs": [],
   "source": []
  }
 ],
 "metadata": {
  "kernelspec": {
   "display_name": "Python 3 (ipykernel)",
   "language": "python",
   "name": "python3"
  },
  "language_info": {
   "codemirror_mode": {
    "name": "ipython",
    "version": 3
   },
   "file_extension": ".py",
   "mimetype": "text/x-python",
   "name": "python",
   "nbconvert_exporter": "python",
   "pygments_lexer": "ipython3",
   "version": "3.7.11"
  }
 },
 "nbformat": 4,
 "nbformat_minor": 4
}
